{
 "cells": [
  {
   "cell_type": "code",
   "execution_count": 2,
   "id": "a5f30166",
   "metadata": {},
   "outputs": [
    {
     "name": "stdout",
     "output_type": "stream",
     "text": [
      "                                          0\n",
      "File name                                  \n",
      "resultatNode34StatusMts000M002080.txt   N:=\n",
      "Status-MT-8K-10p12                     None\n",
      "resultatNode40StatusMts000M000027.txt  None\n",
      "resultatNode34StatusMts000M002064.txt   N:=\n",
      "resultatNode40StatusMts000M000038.txt  None\n",
      "...                                     ...\n",
      "resultatNode40StatusMts000M000107.txt  None\n",
      "resultatNode34StatusMts000M002101.txt   N:=\n",
      "resultatNode40StatusMts000M000057.txt  None\n",
      "resultatNode40StatusMts000M000119.txt  None\n",
      "resultatNode40StatusMts000M000018.txt  None\n",
      "\n",
      "[242 rows x 1 columns]\n",
      "#################\n"
     ]
    },
    {
     "ename": "KeyError",
     "evalue": "'c'",
     "output_type": "error",
     "traceback": [
      "\u001b[0;31m---------------------------------------------------------------------------\u001b[0m",
      "\u001b[0;31mKeyError\u001b[0m                                  Traceback (most recent call last)",
      "Cell \u001b[0;32mIn [2], line 36\u001b[0m\n\u001b[1;32m     33\u001b[0m \u001b[38;5;28mprint\u001b[39m(df)\n\u001b[1;32m     34\u001b[0m \u001b[38;5;28mprint\u001b[39m(\u001b[38;5;124m\"\u001b[39m\u001b[38;5;124m#################\u001b[39m\u001b[38;5;124m\"\u001b[39m)\n\u001b[0;32m---> 36\u001b[0m dfGoodStatus \u001b[38;5;241m=\u001b[39m df\u001b[38;5;241m.\u001b[39mloc[(df[\u001b[38;5;124m\"\u001b[39m\u001b[38;5;124mc\u001b[39m\u001b[38;5;124m\"\u001b[39m]\u001b[38;5;241m.\u001b[39misnull()) \u001b[38;5;241m&\u001b[39m  (df[\u001b[38;5;124m\"\u001b[39m\u001b[38;5;124md\u001b[39m\u001b[38;5;124m\"\u001b[39m]\u001b[38;5;241m.\u001b[39misnull())] \n\u001b[1;32m     37\u001b[0m \u001b[38;5;28mprint\u001b[39m(dfGoodStatus)\n\u001b[1;32m     38\u001b[0m \u001b[38;5;28mprint\u001b[39m(\u001b[38;5;124m\"\u001b[39m\u001b[38;5;124m#################\u001b[39m\u001b[38;5;124m\"\u001b[39m)\n",
      "File \u001b[0;32m~/.local/lib/python3.8/site-packages/pandas/core/frame.py:3805\u001b[0m, in \u001b[0;36mDataFrame.__getitem__\u001b[0;34m(self, key)\u001b[0m\n\u001b[1;32m   3803\u001b[0m \u001b[38;5;28;01mif\u001b[39;00m \u001b[38;5;28mself\u001b[39m\u001b[38;5;241m.\u001b[39mcolumns\u001b[38;5;241m.\u001b[39mnlevels \u001b[38;5;241m>\u001b[39m \u001b[38;5;241m1\u001b[39m:\n\u001b[1;32m   3804\u001b[0m     \u001b[38;5;28;01mreturn\u001b[39;00m \u001b[38;5;28mself\u001b[39m\u001b[38;5;241m.\u001b[39m_getitem_multilevel(key)\n\u001b[0;32m-> 3805\u001b[0m indexer \u001b[38;5;241m=\u001b[39m \u001b[38;5;28;43mself\u001b[39;49m\u001b[38;5;241;43m.\u001b[39;49m\u001b[43mcolumns\u001b[49m\u001b[38;5;241;43m.\u001b[39;49m\u001b[43mget_loc\u001b[49m\u001b[43m(\u001b[49m\u001b[43mkey\u001b[49m\u001b[43m)\u001b[49m\n\u001b[1;32m   3806\u001b[0m \u001b[38;5;28;01mif\u001b[39;00m is_integer(indexer):\n\u001b[1;32m   3807\u001b[0m     indexer \u001b[38;5;241m=\u001b[39m [indexer]\n",
      "File \u001b[0;32m~/.local/lib/python3.8/site-packages/pandas/core/indexes/range.py:395\u001b[0m, in \u001b[0;36mRangeIndex.get_loc\u001b[0;34m(self, key, method, tolerance)\u001b[0m\n\u001b[1;32m    393\u001b[0m             \u001b[38;5;28;01mraise\u001b[39;00m \u001b[38;5;167;01mKeyError\u001b[39;00m(key) \u001b[38;5;28;01mfrom\u001b[39;00m \u001b[38;5;21;01merr\u001b[39;00m\n\u001b[1;32m    394\u001b[0m     \u001b[38;5;28mself\u001b[39m\u001b[38;5;241m.\u001b[39m_check_indexing_error(key)\n\u001b[0;32m--> 395\u001b[0m     \u001b[38;5;28;01mraise\u001b[39;00m \u001b[38;5;167;01mKeyError\u001b[39;00m(key)\n\u001b[1;32m    396\u001b[0m \u001b[38;5;28;01mreturn\u001b[39;00m \u001b[38;5;28msuper\u001b[39m()\u001b[38;5;241m.\u001b[39mget_loc(key, method\u001b[38;5;241m=\u001b[39mmethod, tolerance\u001b[38;5;241m=\u001b[39mtolerance)\n",
      "\u001b[0;31mKeyError\u001b[0m: 'c'"
     ]
    }
   ],
   "source": [
    "import os\n",
    "import pandas as pd\n",
    "\n",
    "\n",
    "results = {} \n",
    "for filename in os.listdir(os.getcwd()):\n",
    "    listTestFailed = [] \n",
    "    inside = 0\n",
    "    if 'resultatNode' in filename:\n",
    "        with open(filename, 'r') as file:\n",
    "            lines = file.readlines()\n",
    "            last_lines = lines[-23:]\n",
    "            for line in last_lines:\n",
    "                \n",
    "                if(inside == 1 and '------' not in line and \"r = \" in line):\n",
    "                    listTestFailed.append(line.split()[0] + \":\" + line.split()[1])\n",
    "                if(('-------' in line) and inside == 0):\n",
    "                    inside = 1\n",
    "                    \n",
    "                elif(('-------' in line) and inside == 1):\n",
    "                    inside = 0\n",
    "                    break\n",
    "                \n",
    "    results[filename] = listTestFailed\n",
    "    \n",
    "\n",
    "\n",
    "#This line going to fail if Mt status has failed more than 4 tests in Big Crush, but on 4096 status it didn't happen\n",
    "df = pd.DataFrame.from_dict(results, columns=[\"a\",\"b\",\"c\",\"d\"] , orient='index')\n",
    "df.index.name = 'File name'\n",
    "\n",
    "\n",
    "print(df)\n",
    "print(\"#################\")\n",
    "\n",
    "dfGoodStatus = df.loc[(df[\"c\"].isnull()) &  (df[\"d\"].isnull())] \n",
    "print(dfGoodStatus)\n",
    "print(\"#################\")\n",
    "\n",
    "dfBadStatus = df.loc[(df[\"c\"].notnull()) |  (df[\"d\"].notnull())] \n",
    "print(dfBadStatus)\n",
    "print(\"#################\")\n",
    "                "
   ]
  },
  {
   "cell_type": "code",
   "execution_count": null,
   "id": "429809b4",
   "metadata": {},
   "outputs": [],
   "source": []
  },
  {
   "cell_type": "code",
   "execution_count": null,
   "id": "8ca0c454",
   "metadata": {},
   "outputs": [],
   "source": []
  }
 ],
 "metadata": {
  "kernelspec": {
   "display_name": "Python 3 (ipykernel)",
   "language": "python",
   "name": "python3"
  },
  "language_info": {
   "codemirror_mode": {
    "name": "ipython",
    "version": 3
   },
   "file_extension": ".py",
   "mimetype": "text/x-python",
   "name": "python",
   "nbconvert_exporter": "python",
   "pygments_lexer": "ipython3",
   "version": "3.8.10"
  }
 },
 "nbformat": 4,
 "nbformat_minor": 5
}
